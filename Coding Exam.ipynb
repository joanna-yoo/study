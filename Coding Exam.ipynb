{
 "cells": [
  {
   "cell_type": "markdown",
   "metadata": {},
   "source": [
    "### Sort Prime Orders"
   ]
  },
  {
   "cell_type": "code",
   "execution_count": null,
   "metadata": {},
   "outputs": [],
   "source": [
    "import re\n",
    "def prioritizedOrders(numOrders, orderList):\n",
    "    # WRITE YOUR CODE HERE\n",
    "    orderToMetadata = [tuple(order.split(' ', 1)) for order in orderList]\n",
    "    primeOrderMetadata = [(orderId, metadata) for (orderId, metadata) \n",
    "                          in orderToMetadata\n",
    "                          if re.search('[a-zA-Z]', metadata) is not None]\n",
    "    sortedPrimeOrderMetadata = sorted(primeOrderMetadata, \n",
    "                                      key = lambda x: x[1])\n",
    "    sortedOrderList = [' '.join(orderMetadata) for orderMetadata\n",
    "                       in sortedPrimeOrderMetadata]\n",
    "    sortedOrderList.extend([order for order in orderList \n",
    "                            if order not in sortedOrderList])\n",
    "    return sortedOrderList"
   ]
  },
  {
   "cell_type": "markdown",
   "metadata": {},
   "source": [
    "### Find the shortest steps"
   ]
  },
  {
   "cell_type": "code",
   "execution_count": 1,
   "metadata": {},
   "outputs": [],
   "source": [
    "import numpy as np\n",
    "\n",
    "numRows = 3\n",
    "numColumns = 3\n",
    "area = np.array([[1, 1, 1], [1, 0, 1], [1, 9, 1]])\n",
    "\n",
    "## you can go to 1, can't go to 0\n",
    "## 9 is the finishing point"
   ]
  },
  {
   "cell_type": "code",
   "execution_count": 2,
   "metadata": {},
   "outputs": [],
   "source": [
    "start = (0, 0)\n",
    "end = tuple([np.asscalar(i) for i in np.where(area == 9)])\n",
    "all_nodes = tuple(zip(np.nonzero(area)[0], np.nonzero(area)[1]))"
   ]
  },
  {
   "cell_type": "code",
   "execution_count": 69,
   "metadata": {},
   "outputs": [],
   "source": [
    "def next_choices(current_node):\n",
    "    return [node for node in all_nodes if node != current_node \n",
    "            and np.abs(node[0]-current_node[0]) <= 1\n",
    "            and np.abs(node[1]-current_node[1]) <= 1\n",
    "            and np.abs(node[0]-current_node[0]) + np.abs(node[1]-current_node[1]) == 1\n",
    "            and area[node] > 0]"
   ]
  },
  {
   "cell_type": "code",
   "execution_count": 70,
   "metadata": {},
   "outputs": [],
   "source": [
    "graph = {node: next_choices(node) for node in all_nodes}"
   ]
  },
  {
   "cell_type": "code",
   "execution_count": 71,
   "metadata": {},
   "outputs": [],
   "source": [
    "## source: https://www.python.org/doc/essays/graphs/\n",
    "def find_all_paths(graph, start, end, path=[]):\n",
    "    path = path + [start]\n",
    "    if start == end:\n",
    "        return [path]\n",
    "    if start not in graph:\n",
    "        return []\n",
    "    paths = []\n",
    "    for node in graph[start]:\n",
    "        if node not in path:\n",
    "            newpaths = find_all_paths(graph, node, end, path)\n",
    "            for newpath in newpaths:\n",
    "                paths.append(newpath)\n",
    "    return paths"
   ]
  },
  {
   "cell_type": "code",
   "execution_count": 72,
   "metadata": {},
   "outputs": [],
   "source": [
    "find_all_paths(graph, start, end)"
   ]
  },
  {
   "cell_type": "code",
   "execution_count": 76,
   "metadata": {},
   "outputs": [],
   "source": [
    "def find_shortest_path(graph, start, end, path=[]):\n",
    "    path = path + [start]\n",
    "    if start == end:\n",
    "        return path\n",
    "    if start not in graph.keys():\n",
    "        return None\n",
    "    shortest = None\n",
    "    for node in graph[start]:\n",
    "        if node not in path:\n",
    "            newpath = find_shortest_path(graph, node, end, path)\n",
    "            if newpath:\n",
    "                if not shortest or len(newpath) < len(shortest):\n",
    "                    shortest = newpath\n",
    "    return shortest\n"
   ]
  },
  {
   "cell_type": "code",
   "execution_count": 77,
   "metadata": {},
   "outputs": [
    {
     "data": {
      "text/plain": [
       "[(0, 0), (1, 0), (2, 0), (2, 1)]"
      ]
     },
     "execution_count": 77,
     "metadata": {},
     "output_type": "execute_result"
    }
   ],
   "source": [
    "find_shortest_path(graph, start, end)"
   ]
  },
  {
   "cell_type": "code",
   "execution_count": null,
   "metadata": {},
   "outputs": [],
   "source": []
  },
  {
   "cell_type": "code",
   "execution_count": null,
   "metadata": {},
   "outputs": [],
   "source": []
  }
 ],
 "metadata": {
  "kernelspec": {
   "display_name": "Python 3",
   "language": "python",
   "name": "python3"
  },
  "language_info": {
   "codemirror_mode": {
    "name": "ipython",
    "version": 3
   },
   "file_extension": ".py",
   "mimetype": "text/x-python",
   "name": "python",
   "nbconvert_exporter": "python",
   "pygments_lexer": "ipython3",
   "version": "3.5.6"
  }
 },
 "nbformat": 4,
 "nbformat_minor": 2
}
