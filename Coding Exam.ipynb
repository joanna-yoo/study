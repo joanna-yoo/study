{
 "cells": [
  {
   "cell_type": "markdown",
   "metadata": {},
   "source": [
    "#### Sort Prime Orders"
   ]
  },
  {
   "cell_type": "code",
   "execution_count": null,
   "metadata": {},
   "outputs": [],
   "source": [
    "import re\n",
    "def prioritizedOrders(numOrders, orderList):\n",
    "    # WRITE YOUR CODE HERE\n",
    "    orderToMetadata = [tuple(order.split(' ', 1)) for order in orderList]\n",
    "    primeOrderMetadata = [(orderId, metadata) for (orderId, metadata) \n",
    "                          in orderToMetadata\n",
    "                          if re.search('[a-zA-Z]', metadata) is not None]\n",
    "    sortedPrimeOrderMetadata = sorted(primeOrderMetadata, \n",
    "                                      key = lambda x: x[1])\n",
    "    sortedOrderList = [' '.join(orderMetadata) for orderMetadata\n",
    "                       in sortedPrimeOrderMetadata]\n",
    "    sortedOrderList.extend([order for order in orderList \n",
    "                            if order not in sortedOrderList])\n",
    "    return sortedOrderList"
   ]
  },
  {
   "cell_type": "markdown",
   "metadata": {},
   "source": [
    "#### Find the shortest steps"
   ]
  },
  {
   "cell_type": "code",
   "execution_count": null,
   "metadata": {},
   "outputs": [],
   "source": [
    "import numpy as np\n",
    "\n",
    "numRows = 3\n",
    "numColumns = 3\n",
    "area = np.array([[1, 1, 1], [1, 0, 1], [1, 9, 1]])\n",
    "\n",
    "## you can go to 1, can't go to 0\n",
    "## 9 is the finishing point"
   ]
  },
  {
   "cell_type": "code",
   "execution_count": null,
   "metadata": {},
   "outputs": [],
   "source": [
    "start = (0, 0)\n",
    "end = tuple([np.asscalar(i) for i in np.where(area == 9)])\n",
    "all_nodes = tuple(zip(np.nonzero(area)[0], np.nonzero(area)[1]))"
   ]
  },
  {
   "cell_type": "code",
   "execution_count": null,
   "metadata": {},
   "outputs": [],
   "source": [
    "def next_choices(current_node):\n",
    "    return [node for node in all_nodes if node != current_node \n",
    "            and np.abs(node[0]-current_node[0]) <= 1\n",
    "            and np.abs(node[1]-current_node[1]) <= 1\n",
    "            and np.abs(node[0]-current_node[0]) + np.abs(node[1]-current_node[1]) == 1\n",
    "            and area[node] > 0]"
   ]
  },
  {
   "cell_type": "code",
   "execution_count": null,
   "metadata": {},
   "outputs": [],
   "source": [
    "graph = {node: next_choices(node) for node in all_nodes}"
   ]
  },
  {
   "cell_type": "code",
   "execution_count": null,
   "metadata": {},
   "outputs": [],
   "source": [
    "## source: https://www.python.org/doc/essays/graphs/\n",
    "def find_all_paths(graph, start, end, path=[]):\n",
    "    path = path + [start]\n",
    "    if start == end:\n",
    "        return [path]\n",
    "    if start not in graph:\n",
    "        return []\n",
    "    paths = []\n",
    "    for node in graph[start]:\n",
    "        if node not in path:\n",
    "            newpaths = find_all_paths(graph, node, end, path)\n",
    "            for newpath in newpaths:\n",
    "                paths.append(newpath)\n",
    "    return paths"
   ]
  },
  {
   "cell_type": "code",
   "execution_count": null,
   "metadata": {},
   "outputs": [],
   "source": [
    "find_all_paths(graph, start, end)"
   ]
  },
  {
   "cell_type": "code",
   "execution_count": null,
   "metadata": {},
   "outputs": [],
   "source": [
    "def find_shortest_path(graph, start, end, path=[]):\n",
    "    path = path + [start]\n",
    "    if start == end:\n",
    "        return path\n",
    "    if start not in graph.keys():\n",
    "        return None\n",
    "    shortest = None\n",
    "    for node in graph[start]:\n",
    "        if node not in path:\n",
    "            newpath = find_shortest_path(graph, node, end, path)\n",
    "            if newpath:\n",
    "                if not shortest or len(newpath) < len(shortest):\n",
    "                    shortest = newpath\n",
    "    return shortest\n"
   ]
  },
  {
   "cell_type": "code",
   "execution_count": null,
   "metadata": {},
   "outputs": [],
   "source": [
    "find_shortest_path(graph, start, end)"
   ]
  },
  {
   "cell_type": "markdown",
   "metadata": {},
   "source": [
    "## CoderByte Tests"
   ]
  },
  {
   "cell_type": "markdown",
   "metadata": {},
   "source": [
    "#### LetterChanges\n",
    "Have the function `LetterChanges(str)` take the str parameter being passed and modify it using the following algorithm. Replace every letter in the string with the letter following it in the alphabet (ie. c becomes d, z becomes a). Then capitalize every vowel in this new string (a, e, i, o, u) and finally return this modified string"
   ]
  },
  {
   "cell_type": "code",
   "execution_count": null,
   "metadata": {},
   "outputs": [],
   "source": [
    "def LetterChanges(str): \n",
    "    def map_to_next(char):\n",
    "        all_chars = list('abcdefghijklmnopqrstuvwxyz')\n",
    "        return all_chars[(all_chars.index(char) + 1) % len(all_chars)]\n",
    "        \n",
    "    def capitalize_vowel(char):\n",
    "        return char.upper() if char in 'aeiou' else char\n",
    "\n",
    "    # code goes here \n",
    "    return ''.join([capitalize_vowel(map_to_next(char)) \n",
    "                    if char.isalpha() else char for char in str])\n",
    "    "
   ]
  },
  {
   "cell_type": "markdown",
   "metadata": {},
   "source": [
    "#### SimpleSymbols\n",
    "Have the function `SimpleSymbols(str)` take the `str` parameter being passed and determine if it is an acceptable sequence by either returning the `string true or false`. \n",
    "\n",
    "The str parameter will be composed of + and = symbols with several letters between them (ie. `++d+===+c++==a`) and for the string to be true each letter must be surrounded by a + symbol. \n",
    "\n",
    "So the string to the left would be false. The string will not be empty and will have at least one letter. "
   ]
  },
  {
   "cell_type": "code",
   "execution_count": null,
   "metadata": {},
   "outputs": [],
   "source": [
    "def SimpleSymbols(str):\n",
    "    b = 'false'\n",
    "    alphabet_index = [str.index(char) for char in str if char.isalpha()]\n",
    "    if 0 not in alphabet_index:\n",
    "\n",
    "        surrounded_by_symbol = [str[i - 1] == '+' and str[i + 1] == '+' \n",
    "                                for i in alphabet_index]\n",
    "        if all(surrounded_by_symbol):\n",
    "            b = 'true'\n",
    "    # code goes here \n",
    "    return b"
   ]
  },
  {
   "cell_type": "markdown",
   "metadata": {},
   "source": [
    "#### KaprekarsConstant\n",
    "Have the function `KaprekarsConstant(num)` take the num parameter being passed which will be a 4-digit number with at least two distinct digits. Your program should perform the following routine on the number: \n",
    "\n",
    "- Arrange the digits in descending order and in ascending order (adding zeroes to fit it to a 4-digit number)\n",
    "- subtract the smaller number from the bigger number. Then repeat the previous step. Performing this routine will always cause you to reach a fixed number: 6174. \n",
    "- Then performing the routine on 6174 will always give you 6174 (7641 - 1467 = 6174). \n",
    "- Your program should return the number of times this routine must be performed until 6174 is reached."
   ]
  },
  {
   "cell_type": "code",
   "execution_count": null,
   "metadata": {},
   "outputs": [],
   "source": [
    "def KaprekarsConstant(num): \n",
    "    def zero_pad(n):\n",
    "        return '0' * (4 - len(str(n))) + str(n) if len(str(n)) < 4 else str(n)\n",
    "    \n",
    "    def generate_new_digits(n):\n",
    "        int1 = int(''.join(sorted(zero_pad(n))))\n",
    "        int2 = int(''.join(sorted(zero_pad(n))[::-1]))\n",
    "    \n",
    "        return max(int1, int2), min(int1, int2)\n",
    "\n",
    "    larger, smaller = generate_new_digits(num)\n",
    "    num_steps = 1\n",
    "\n",
    "    while larger - smaller != 6174:\n",
    "        num_steps += 1 \n",
    "        larger, smaller = generate_new_digits(larger - smaller)\n",
    "\n",
    "    # code goes here \n",
    "    return num_steps"
   ]
  },
  {
   "cell_type": "code",
   "execution_count": null,
   "metadata": {},
   "outputs": [],
   "source": [
    "def KaprekarsConstantBetter(num): \n",
    "    def generate_new_digits(num):\n",
    "        num = '{:04d}'.format(num) # **** This is what I missed\n",
    "        larger = int(''.join(sorted(num, reverse=True))) #  ** we already know what's larger & what's smaller\n",
    "        smaller = int(''.join(sorted(num)))\n",
    "        \n",
    "        return larger, smaller\n",
    "\n",
    "    larger, smaller = generate_new_digits(num)\n",
    "    num_steps = 1\n",
    "\n",
    "    while larger - smaller != 6174:\n",
    "        num_steps += 1 \n",
    "        larger, smaller = generate_new_digits(larger - smaller)\n",
    "\n",
    "    # code goes here \n",
    "    return num_steps"
   ]
  },
  {
   "cell_type": "code",
   "execution_count": null,
   "metadata": {},
   "outputs": [],
   "source": [
    "KaprekarsConstantBetter(9831)"
   ]
  },
  {
   "cell_type": "markdown",
   "metadata": {},
   "source": [
    "#### ChessboardTraveling(str)\n",
    "\n",
    " - Read str which will be a string consisting of the location of a space on a standard 8x8 chess board with no pieces on the board along with another space on the chess board. \n",
    " - The structure of str will be the following: \"(x y)(a b)\" where (x y) represents the position you are currently on with x and y ranging from 1 to 8 and (a b) represents some other space on the chess board with a and b also ranging from 1 to 8 where a > x and b > y. \n",
    " - Your program should determine how many ways there are of traveling from (x y) on the board to (a b) moving only up and to the right. For example: if str is (1 1)(2 2) then your program should output 2 because there are only two possible ways to travel from space (1 1) on a chessboard to space (2 2) while making only moves up and to the right. "
   ]
  },
  {
   "cell_type": "code",
   "execution_count": null,
   "metadata": {},
   "outputs": [],
   "source": [
    "import re\n",
    "def ChessboardTraveling(str):\n",
    "    start, end = (tuple([int(i) for i in  coord.split(' ')]) for coord in re.findall(r'([0-9] [0-9])', str))\n",
    "    graph = {(i, j): [(i + 1, j), (i, j+1)] for i in range(start[0], end[0] + 1) for j in range(start[1], end[1] + 1)}\n",
    "\n",
    "    def find_all_paths(graph, start, end, path=[]):\n",
    "        path = path + [start]\n",
    "\n",
    "        if start == end:\n",
    "            return [path]\n",
    "        elif start not in graph.keys():\n",
    "            return []\n",
    "\n",
    "        paths = []\n",
    "        for node in graph[start]:\n",
    "            if node not in path:\n",
    "                new_paths = find_all_paths(graph, node, end, path)\n",
    "                for new_path in new_paths:\n",
    "                    paths.append(new_path)\n",
    "\n",
    "        return paths\n",
    "\n",
    "    return len(find_all_paths(graph, start, end))\n"
   ]
  },
  {
   "cell_type": "markdown",
   "metadata": {},
   "source": [
    "#### MaximalSquare(strArr)\n",
    "Take the strArr parameter being passed which will be a 2D matrix of 0 and 1's, and determine the area of the largest square submatrix that contains all 1's. A square submatrix is one of equal width and height, and your program should return the area of the largest submatrix that contains only 1's. For example: if strArr is [\"10100\", \"10111\", \"11111\", \"10010\"] then this looks like the following matrix: \n",
    "\n",
    "1 0 1 0 0\n",
    "\n",
    "1 0 1 1 1\n",
    "\n",
    "1 1 1 1 1\n",
    "\n",
    "1 0 0 1 0 \n",
    "\n",
    "For the input above, you can see the bolded 1's create the largest square submatrix of size 2x2, so your program should return the area which is 4. You can assume the input will not be empty. "
   ]
  },
  {
   "cell_type": "code",
   "execution_count": null,
   "metadata": {
    "scrolled": false
   },
   "outputs": [],
   "source": [
    "import numpy as np\n",
    "strArr =  [\"101101\", \"111111\", \"011111\", \"111111\", \"001111\", \"011111\"]\n",
    "\n",
    "def MaximalSquare(strArr):\n",
    "    mat = np.array([[int(i) for i in str] for str in strArr])\n",
    "\n",
    "    found_square = False\n",
    "    square_size = min(mat.shape) + 1 ## This is so that when we enter the while loop, square_size becomes -1 \n",
    "\n",
    "    while not found_square:\n",
    "        trials = []\n",
    "        '''\n",
    "        I placed it on top because when this is at the bottom, \n",
    "        even if we successfully found the square, the square size -1 \n",
    "        '''\n",
    "        square_size -= 1\n",
    "        \n",
    "        for i in range(mat.shape[0] - square_size + 1):\n",
    "            for j in range(mat.shape[1] - square_size + 1):\n",
    "                sub_mat = mat[i:i+square_size, j:j+square_size]\n",
    "                trials.append(sub_mat.all())\n",
    "\n",
    "        found_square = any(trials)\n",
    "\n",
    "    return square_size ** 2"
   ]
  },
  {
   "cell_type": "code",
   "execution_count": null,
   "metadata": {},
   "outputs": [],
   "source": [
    "def MaximalSquareWithoutNumpy(strArr):\n",
    "    mat = [[int(i) for i in str] for str in strArr]\n",
    "\n",
    "    found_square = False\n",
    "    square_size = min(len(mat), len(mat[0])) + 1 \n",
    "    \n",
    "    while not found_square:\n",
    "        trials = []\n",
    "\n",
    "        square_size -= 1\n",
    "\n",
    "        for i in range(len(mat) - square_size + 1):\n",
    "            for j in range(len(mat[0]) - square_size + 1):\n",
    "                sub_mat = [k for row in mat[i:i+square_size] for k in row[j:j+square_size]]\n",
    "                trials.append(all(sub_mat))\n",
    "\n",
    "        found_square = any(trials)\n",
    "\n",
    "    return square_size ** 2\n"
   ]
  },
  {
   "cell_type": "code",
   "execution_count": null,
   "metadata": {},
   "outputs": [],
   "source": [
    "## Test\n",
    "assert(MaximalSquare([\"0111\", \"1111\", \"1111\", \"1111\"]) == 9)"
   ]
  },
  {
   "cell_type": "code",
   "execution_count": null,
   "metadata": {},
   "outputs": [],
   "source": []
  }
 ],
 "metadata": {
  "kernelspec": {
   "display_name": "Python 3",
   "language": "python",
   "name": "python3"
  },
  "language_info": {
   "codemirror_mode": {
    "name": "ipython",
    "version": 3
   },
   "file_extension": ".py",
   "mimetype": "text/x-python",
   "name": "python",
   "nbconvert_exporter": "python",
   "pygments_lexer": "ipython3",
   "version": "3.5.6"
  }
 },
 "nbformat": 4,
 "nbformat_minor": 2
}
